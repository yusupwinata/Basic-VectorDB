{
 "cells": [
  {
   "cell_type": "code",
   "execution_count": 1,
   "id": "d49ae503-6c51-496b-acfe-4e1e60061afa",
   "metadata": {},
   "outputs": [],
   "source": [
    "import os\n",
    "import glob\n",
    "import numpy as np\n",
    "import gradio as gr\n",
    "from dotenv import load_dotenv\n",
    "# Chunking knowledge base\n",
    "from langchain.document_loaders import DirectoryLoader, TextLoader\n",
    "from langchain.text_splitter import CharacterTextSplitter\n",
    "\n",
    "# Building vector db\n",
    "from langchain.schema import Document\n",
    "from langchain_openai import OpenAIEmbeddings, ChatOpenAI\n",
    "from huggingface_hub import login\n",
    "from langchain_huggingface import HuggingFaceEmbeddings, ChatHuggingFace\n",
    "from langchain_chroma import Chroma\n",
    "\n",
    "# Visualizing vector db\n",
    "from sklearn.manifold import TSNE\n",
    "import plotly.graph_objects as go\n",
    "import plotly.offline as pyo"
   ]
  },
  {
   "cell_type": "markdown",
   "id": "2ae3a63b-e7d3-4f0b-975c-9f5e14c92583",
   "metadata": {},
   "source": [
    "# Chunking Knowledge Base"
   ]
  },
  {
   "cell_type": "code",
   "execution_count": 2,
   "id": "65c28d68-55e0-4872-aff9-4d682be189a1",
   "metadata": {},
   "outputs": [],
   "source": [
    "ABSOLUTE_PATH = os.path.abspath(os.getcwd())\n",
    "KB_PATH = os.path.join(ABSOLUTE_PATH, \"knowledge-base-nexatech\")\n",
    "DB_PATH = os.path.join(ABSOLUTE_PATH, \"VectorDBs\", \"nexatech_vector_db\")\n",
    "DB_HF_PATH = os.path.join(ABSOLUTE_PATH, \"VectorDBs\", \"nexatech_vector_db_hf\")"
   ]
  },
  {
   "cell_type": "code",
   "execution_count": 3,
   "id": "07be07e7-31bd-4790-85de-db33578f91d8",
   "metadata": {},
   "outputs": [],
   "source": [
    "all_folders = glob.glob(KB_PATH + \"/*\")\n",
    "\n",
    "loader_config = {\"encoding\": \"utf-8\"}\n",
    "all_documents = []\n",
    "for folder in all_folders:\n",
    "    document_type = os.path.basename(folder)\n",
    "\n",
    "    loader = DirectoryLoader(\n",
    "        path=folder,\n",
    "        glob=\"**/*.md\",\n",
    "        loader_cls=TextLoader,\n",
    "        loader_kwargs=loader_config\n",
    "    )\n",
    "\n",
    "    documents = loader.load()\n",
    "\n",
    "    for document in documents:\n",
    "        document.metadata[\"doc_type\"] = document_type\n",
    "        all_documents.append(document)"
   ]
  },
  {
   "cell_type": "code",
   "execution_count": 4,
   "id": "1dad54cd-0899-473d-9a76-5dd1f436a026",
   "metadata": {},
   "outputs": [],
   "source": [
    "text_splitter = CharacterTextSplitter(chunk_size=1000, chunk_overlap=200)\n",
    "chunks = text_splitter.split_documents(all_documents)"
   ]
  },
  {
   "cell_type": "markdown",
   "id": "64ff2935-4325-40f9-914e-26b21a8c2259",
   "metadata": {},
   "source": [
    "## Simple Retrieval Application using Chunks"
   ]
  },
  {
   "cell_type": "code",
   "execution_count": null,
   "id": "7547018f-0ede-42bb-ba55-e62ab6033493",
   "metadata": {},
   "outputs": [],
   "source": [
    "def get_relevant_context(query: str) -> None:\n",
    "    for chunk in chunks:\n",
    "        if query in chunk.page_content:\n",
    "            print(chunk)\n",
    "        else:\n",
    "            print(\"__________\")\n",
    "\n",
    "get_relevant_context(\"products\")"
   ]
  },
  {
   "cell_type": "markdown",
   "id": "681e2d2f-6873-446d-beb6-c8fd1cbd70eb",
   "metadata": {},
   "source": [
    "# Building Vector Database"
   ]
  },
  {
   "cell_type": "markdown",
   "id": "995f79ba-eeb4-4725-8b2d-0a787af1261c",
   "metadata": {},
   "source": [
    "## Using OpenAIEmbeddings"
   ]
  },
  {
   "cell_type": "code",
   "execution_count": 6,
   "id": "48a47e67-d7e5-4c0c-b9af-8815055b4276",
   "metadata": {},
   "outputs": [],
   "source": [
    "db_name = DB_PATH\n",
    "\n",
    "load_dotenv(override=True)\n",
    "OPENAI_API_KEY = os.getenv(\"OPENAI_API_KEY\", \"type-your-api-key-here\")\n",
    "\n",
    "openai_embeddings = OpenAIEmbeddings()"
   ]
  },
  {
   "cell_type": "code",
   "execution_count": 7,
   "id": "c1ef11ff-85d8-4b93-8d98-302947564b3a",
   "metadata": {},
   "outputs": [],
   "source": [
    "# Check Chroma vectorstore in directory\n",
    "\n",
    "if os.path.exists(db_name):\n",
    "    print(\"Chroma vectorstore already exists. Delete the collection in it to start from scratch.\")\n",
    "    Chroma(\n",
    "        persist_directory=db_name,\n",
    "        embedding_function=openai_embeddings\n",
    "    ).delete_collection()"
   ]
  },
  {
   "cell_type": "code",
   "execution_count": 8,
   "id": "b387bcad-302a-4dbc-9b10-1a62d39cc25c",
   "metadata": {},
   "outputs": [
    {
     "name": "stdout",
     "output_type": "stream",
     "text": [
      "vectorstore created with 23 documents.\n"
     ]
    }
   ],
   "source": [
    "# Create Chroma vectorstore\n",
    "\n",
    "vectorstore = Chroma.from_documents(\n",
    "    documents=chunks,\n",
    "    embedding=openai_embeddings,\n",
    "    persist_directory=db_name\n",
    ")\n",
    "\n",
    "print(f\"vectorstore created with {vectorstore._collection.count()} documents.\")"
   ]
  },
  {
   "cell_type": "code",
   "execution_count": 9,
   "id": "7df44e7a-2e7e-4ea8-b34d-1a111c5f334c",
   "metadata": {},
   "outputs": [
    {
     "name": "stdout",
     "output_type": "stream",
     "text": [
      "Vectors: \n",
      "{'ids': ['9d869d49-3f97-4d27-8833-a6be8ffc5cf9'], 'embeddings': None, 'documents': ['Company Profile\\nNexaTech Solutions is a leading technology company founded in 2018, specializing in cloud-based enterprise solutions and AI-powered business tools. Headquartered in Austin, Texas, we serve over 2,500 companies worldwide, ranging from startups to Fortune 500 enterprises.\\nOur mission is to empower businesses through innovative technology solutions that streamline operations, enhance productivity, and drive digital transformation. With a team of 450+ professionals across 12 countries, we combine cutting-edge technology with deep industry expertise.\\nKey Statistics\\n\\nFounded: 2018\\nHeadquarters: Austin, Texas\\nGlobal Offices: 12 locations\\nEmployees: 450+\\nCustomers: 2,500+ companies\\nAnnual Revenue: $85M (2024)\\nCustomer Satisfaction: 4.8/5.0\\n\\nLeadership Team:\\nSarah Chen - CEO & Co-founder\\nMarcus Rodriguez - CTO & Co-founder\\nDr. Priya Patel - VP of Product Development\\nJames Thompson - VP of Sales & Marketing\\nLisa Wang - VP of Customer Success'], 'uris': None, 'included': ['metadatas', 'documents'], 'data': None, 'metadatas': [{'doc_type': 'company', 'source': 'D:\\\\Learn\\\\LLM\\\\llm_engineering\\\\week5\\\\knowledge-base-nexatech\\\\company\\\\about.md'}]}\n",
      "\n",
      "\n",
      "This vectors have 1536 dimensions:\n",
      "[ 4.62619646e-05 -1.33644976e-02  1.15749687e-02 ... -2.56030001e-02\n",
      " -2.26405580e-02 -1.80293377e-02]\n"
     ]
    }
   ],
   "source": [
    "# Sampling a single vector inside the Chroma vectorstore\n",
    "\n",
    "collection = vectorstore._collection\n",
    "sample_vector = collection.get(limit=1)\n",
    "sample_embedding = collection.get(limit=1, include=[\"embeddings\"])[\"embeddings\"][0]\n",
    "dimensions = len(sample_embedding)\n",
    "\n",
    "print(f\"Vectors: \\n{sample_vector}\\n\\n\")\n",
    "print(f\"This vectors have {dimensions} dimensions:\\n{sample_embedding}\")"
   ]
  },
  {
   "cell_type": "markdown",
   "id": "d5c31718-e608-4164-a4ed-7c19cee9e26b",
   "metadata": {},
   "source": [
    "### Simple Retrieval Application using OpenAI Vectorstore"
   ]
  },
  {
   "cell_type": "code",
   "execution_count": null,
   "id": "b16d4a23-a327-47aa-bd85-0e12a48375f5",
   "metadata": {},
   "outputs": [],
   "source": [
    "query = \"products\"\n",
    "retrieved_documents = vectorstore.similarity_search(query, k=5)\n",
    "[doc.page_content for doc in retrieved_documents]"
   ]
  },
  {
   "cell_type": "markdown",
   "id": "02a97246-5ec7-4fba-aae2-eef6d8ab02ca",
   "metadata": {},
   "source": [
    "## Using HuggingFaceEmbeddings\n",
    "\n",
    "https://huggingface.co/sentence-transformers/all-MiniLM-L6-v2"
   ]
  },
  {
   "cell_type": "code",
   "execution_count": 11,
   "id": "3a78e42d-25be-4aa8-be48-91cdf39f0d2f",
   "metadata": {},
   "outputs": [],
   "source": [
    "db_name = DB_HF_PATH\n",
    "\n",
    "HF_TOKEN = os.getenv(\"HUGGINGFACE_TOKEN\", \"type-your-token-here\")\n",
    "login(HF_TOKEN)\n",
    "\n",
    "hf_embeddings = HuggingFaceEmbeddings(model=\"sentence-transformers/all-MiniLM-L6-v2\")"
   ]
  },
  {
   "cell_type": "code",
   "execution_count": 12,
   "id": "1762aaf9-fbb2-44f9-8822-c6dee74e0cff",
   "metadata": {},
   "outputs": [],
   "source": [
    "# Check Chroma vectorstore for hugging face in directory\n",
    "\n",
    "if os.path.exists(db_name):\n",
    "    print(\"Chroma vectorstore for hugging face already exists. Delete the collection in it to start from scratch.\")\n",
    "    Chroma(\n",
    "        persist_directory=db_name,\n",
    "        embedding_function=hf_embeddings\n",
    "    ).delete_collection()"
   ]
  },
  {
   "cell_type": "code",
   "execution_count": 13,
   "id": "ea3118cd-849c-4cba-bb48-66f2c45c924b",
   "metadata": {},
   "outputs": [
    {
     "name": "stdout",
     "output_type": "stream",
     "text": [
      "vectorstore created with 23 documents.\n"
     ]
    }
   ],
   "source": [
    "# Create Chroma vectorstore for hugging face\n",
    "\n",
    "hf_vetorstore = Chroma.from_documents(\n",
    "    documents=chunks,\n",
    "    embedding=hf_embeddings,\n",
    "    persist_directory=db_name\n",
    ")\n",
    "\n",
    "print(f\"vectorstore created with {hf_vetorstore._collection.count()} documents.\")"
   ]
  },
  {
   "cell_type": "code",
   "execution_count": 14,
   "id": "2d142b7c-049d-46e0-aebd-4edcf334be36",
   "metadata": {},
   "outputs": [
    {
     "name": "stdout",
     "output_type": "stream",
     "text": [
      "Vectors: \n",
      "{'ids': ['e1b104d5-080f-41fd-be8b-0994fd537c0d'], 'embeddings': None, 'documents': ['Company Profile\\nNexaTech Solutions is a leading technology company founded in 2018, specializing in cloud-based enterprise solutions and AI-powered business tools. Headquartered in Austin, Texas, we serve over 2,500 companies worldwide, ranging from startups to Fortune 500 enterprises.\\nOur mission is to empower businesses through innovative technology solutions that streamline operations, enhance productivity, and drive digital transformation. With a team of 450+ professionals across 12 countries, we combine cutting-edge technology with deep industry expertise.\\nKey Statistics\\n\\nFounded: 2018\\nHeadquarters: Austin, Texas\\nGlobal Offices: 12 locations\\nEmployees: 450+\\nCustomers: 2,500+ companies\\nAnnual Revenue: $85M (2024)\\nCustomer Satisfaction: 4.8/5.0\\n\\nLeadership Team:\\nSarah Chen - CEO & Co-founder\\nMarcus Rodriguez - CTO & Co-founder\\nDr. Priya Patel - VP of Product Development\\nJames Thompson - VP of Sales & Marketing\\nLisa Wang - VP of Customer Success'], 'uris': None, 'included': ['metadatas', 'documents'], 'data': None, 'metadatas': [{'doc_type': 'company', 'source': 'D:\\\\Learn\\\\LLM\\\\llm_engineering\\\\week5\\\\knowledge-base-nexatech\\\\company\\\\about.md'}]}\n",
      "\n",
      "\n",
      "This vectors have 384 dimensions:\n",
      "[-0.02860797 -0.06703272  0.03091251 -0.01262432 -0.05327009 -0.05159894\n",
      "  0.00910574  0.02823787 -0.0075781  -0.04176101  0.00930202  0.01612638\n",
      "  0.1103479   0.01969165  0.00574345  0.03834841  0.05553171 -0.08382864\n",
      "  0.00844112 -0.10285019]\n"
     ]
    }
   ],
   "source": [
    "# Sampling a single vector inside the Chroma vectorstore for hugging face\n",
    "\n",
    "hf_collection = hf_vetorstore._collection\n",
    "hf_sample_vector = hf_collection.get(limit=1)\n",
    "hf_sample_embedding = hf_collection.get(limit=1, include=[\"embeddings\"])[\"embeddings\"][0]\n",
    "hf_dimensions = len(hf_sample_embedding)\n",
    "\n",
    "print(f\"Vectors: \\n{hf_sample_vector}\\n\\n\")\n",
    "print(f\"This vectors have {hf_dimensions} dimensions:\\n{hf_sample_embedding[:20]}\")"
   ]
  },
  {
   "cell_type": "markdown",
   "id": "f21cfe39-20ba-40a9-9984-abd5e7bf6f67",
   "metadata": {},
   "source": [
    "### Simple Retrieval Application using Hugging Face Vectorstore"
   ]
  },
  {
   "cell_type": "code",
   "execution_count": null,
   "id": "5086da64-66a3-40d4-9333-0acadffcf88f",
   "metadata": {},
   "outputs": [],
   "source": [
    "query = \"products\"\n",
    "retrieved_documents = hf_vetorstore.similarity_search(query, k=5)\n",
    "[doc.page_content for doc in retrieved_documents]"
   ]
  },
  {
   "cell_type": "markdown",
   "id": "9257fb59-c190-49b6-b142-b3b1cda73def",
   "metadata": {},
   "source": [
    "# Visualizing the Vector Store"
   ]
  },
  {
   "cell_type": "markdown",
   "id": "4d3f641b-f0e9-43fc-af80-f47a058fdf08",
   "metadata": {},
   "source": [
    "## OpenAIEmbeddings"
   ]
  },
  {
   "cell_type": "code",
   "execution_count": 16,
   "id": "863d09fc-7606-4718-b7a1-8c3e22c6c443",
   "metadata": {},
   "outputs": [],
   "source": [
    "result = collection.get(include=['embeddings', 'documents', 'metadatas'])\n",
    "vectors = np.array(result['embeddings'])\n",
    "documents = result['documents']\n",
    "doc_types = [metadata['doc_type'] for metadata in result['metadatas']]\n",
    "colors = [['blue', 'green', 'red', 'orange'][['products', 'employees', 'contracts', 'company'].index(t)] for t in doc_types]"
   ]
  },
  {
   "cell_type": "code",
   "execution_count": 19,
   "id": "a11dc69c-32b6-4932-8021-83d9b48ff44e",
   "metadata": {},
   "outputs": [
    {
     "data": {
      "application/vnd.plotly.v1+json": {
       "config": {
        "plotlyServerURL": "https://plot.ly"
       },
       "data": [
        {
         "hoverinfo": "text",
         "marker": {
          "color": [
           "orange",
           "orange",
           "orange",
           "orange",
           "orange",
           "orange",
           "orange",
           "orange",
           "blue",
           "blue",
           "blue",
           "blue",
           "blue",
           "blue",
           "blue",
           "blue",
           "blue",
           "blue",
           "blue",
           "blue",
           "blue",
           "blue",
           "blue"
          ],
          "opacity": 0.8,
          "size": 5
         },
         "mode": "markers",
         "text": [
          "Type: company<br>Text: Company Profile\nNexaTech Solutions is a leading technology company founded in 2018, specializing in ...",
          "Type: company<br>Text: Awards & Recognition:\n\"Best Enterprise Software Company 2024\" - TechCrunch\n\"Top 50 SaaS Companies to...",
          "Type: company<br>Text: Careers at NexaTech Solutions\nJoin Our Growing Team\nAt NexaTech Solutions, we're building the future...",
          "Type: company<br>Text: Current Open Positions:\n1. Engineering\nSenior Full-Stack Developer (Austin, TX / Remote)\nDevOps Engi...",
          "Type: company<br>Text: Employee Testimonials:\n\"NexaTech has been an incredible place to grow my career. The leadership team...",
          "Type: company<br>Text: Company Overview\nNexaTech Solutions transforms how businesses operate through our comprehensive suit...",
          "Type: company<br>Text: 2. CustomerVault CRM\nComprehensive customer relationship management system with built-in sales autom...",
          "Type: company<br>Text: Industry Focus:\nTechnology & Software\nFinancial Services\nHealthcare\nManufacturing\nProfessional Servi...",
          "Type: products<br>Text: CustomerVault CRM\nCustomerVault CRM is a comprehensive customer relationship management platform tha...",
          "Type: products<br>Text: 3. Customer Service\nSupport Ticket System: Multi-channel case management\nKnowledge Base: Self-servic...",
          "Type: products<br>Text: Integration Capabilities:\nPre-built connectors for:\nMarketing: HubSpot, Mailchimp, Google Ads\nCommun...",
          "Type: products<br>Text: DataMind Analytics\nDataMind Analytics is NexaTech's business intelligence platform that transforms c...",
          "Type: products<br>Text: 3. AI-Powered Analytics\nPredictive Modeling: Machine learning algorithms for forecasting\nAnomaly Det...",
          "Type: products<br>Text: 2. Financial Services\nRisk assessment modeling\nFraud detection algorithms\nPortfolio performance anal...",
          "Type: products<br>Text: Success Metrics:\nOrganizations using DataMind Analytics report:\n40% faster decision-making processes...",
          "Type: products<br>Text: ProjectFlow Pro\nProjectFlow Pro is NexaTech's flagship project management solution, designed specifi...",
          "Type: products<br>Text: 3. Collaboration Tools\nReal-Time Comments: Contextual discussions on tasks and projects\nFile Version...",
          "Type: products<br>Text: Pricing:\nStarter: $15/user/month (up to 100 users)\nProfessional: $25/user/month (unlimited users)\nEn...",
          "Type: products<br>Text: TeamSync Hub\nTeamSync Hub is NexaTech's comprehensive team collaboration platform that unifies commu...",
          "Type: products<br>Text: 2. Video Conferencing\nHD Video Calls: Up to 500 participants with crystal-clear quality\nScreen Shari...",
          "Type: products<br>Text: Productivity Tools:\n1. Task Management\nIntegrated To-Do Lists: Personal and team task management\nPro...",
          "Type: products<br>Text: Platform Capabilities:\n1. Cross-Platform Access\nDesktop Applications: Native apps for Windows, macOS...",
          "Type: products<br>Text: Pricing Structure:\nBasic: Free (up to 10 users, basic features)\nStandard: $8/user/month (unlimited u..."
         ],
         "type": "scatter",
         "x": {
          "bdata": "up8KQliz/0Eqe0dCgRWJQtPaTEJueqxBfI7bwZthMUJzniLCxGJ8wYUaGsJksDdBW9KqQe9r4UFmuyxApB6BQWitGMH6g7nAwuGCQMhk48HhV2HBwK+JQJVlpcE=",
          "dtype": "f4"
         },
         "y": {
          "bdata": "v77QPzNYisHrowlApWUGQQmSbEHiVhFB7rCvwTs/DcIP36PB61HiwWN7D8IDbA/CvnVxwkGjSsLVB0XCXmm5QT1dN8GvMgdCUdEIQct5fkGvVYi+6Fpzwd4f5UE=",
          "dtype": "f4"
         }
        }
       ],
       "layout": {
        "height": 600,
        "margin": {
         "b": 10,
         "l": 10,
         "r": 20,
         "t": 40
        },
        "template": {
         "data": {
          "bar": [
           {
            "error_x": {
             "color": "#2a3f5f"
            },
            "error_y": {
             "color": "#2a3f5f"
            },
            "marker": {
             "line": {
              "color": "#E5ECF6",
              "width": 0.5
             },
             "pattern": {
              "fillmode": "overlay",
              "size": 10,
              "solidity": 0.2
             }
            },
            "type": "bar"
           }
          ],
          "barpolar": [
           {
            "marker": {
             "line": {
              "color": "#E5ECF6",
              "width": 0.5
             },
             "pattern": {
              "fillmode": "overlay",
              "size": 10,
              "solidity": 0.2
             }
            },
            "type": "barpolar"
           }
          ],
          "carpet": [
           {
            "aaxis": {
             "endlinecolor": "#2a3f5f",
             "gridcolor": "white",
             "linecolor": "white",
             "minorgridcolor": "white",
             "startlinecolor": "#2a3f5f"
            },
            "baxis": {
             "endlinecolor": "#2a3f5f",
             "gridcolor": "white",
             "linecolor": "white",
             "minorgridcolor": "white",
             "startlinecolor": "#2a3f5f"
            },
            "type": "carpet"
           }
          ],
          "choropleth": [
           {
            "colorbar": {
             "outlinewidth": 0,
             "ticks": ""
            },
            "type": "choropleth"
           }
          ],
          "contour": [
           {
            "colorbar": {
             "outlinewidth": 0,
             "ticks": ""
            },
            "colorscale": [
             [
              0,
              "#0d0887"
             ],
             [
              0.1111111111111111,
              "#46039f"
             ],
             [
              0.2222222222222222,
              "#7201a8"
             ],
             [
              0.3333333333333333,
              "#9c179e"
             ],
             [
              0.4444444444444444,
              "#bd3786"
             ],
             [
              0.5555555555555556,
              "#d8576b"
             ],
             [
              0.6666666666666666,
              "#ed7953"
             ],
             [
              0.7777777777777778,
              "#fb9f3a"
             ],
             [
              0.8888888888888888,
              "#fdca26"
             ],
             [
              1,
              "#f0f921"
             ]
            ],
            "type": "contour"
           }
          ],
          "contourcarpet": [
           {
            "colorbar": {
             "outlinewidth": 0,
             "ticks": ""
            },
            "type": "contourcarpet"
           }
          ],
          "heatmap": [
           {
            "colorbar": {
             "outlinewidth": 0,
             "ticks": ""
            },
            "colorscale": [
             [
              0,
              "#0d0887"
             ],
             [
              0.1111111111111111,
              "#46039f"
             ],
             [
              0.2222222222222222,
              "#7201a8"
             ],
             [
              0.3333333333333333,
              "#9c179e"
             ],
             [
              0.4444444444444444,
              "#bd3786"
             ],
             [
              0.5555555555555556,
              "#d8576b"
             ],
             [
              0.6666666666666666,
              "#ed7953"
             ],
             [
              0.7777777777777778,
              "#fb9f3a"
             ],
             [
              0.8888888888888888,
              "#fdca26"
             ],
             [
              1,
              "#f0f921"
             ]
            ],
            "type": "heatmap"
           }
          ],
          "histogram": [
           {
            "marker": {
             "pattern": {
              "fillmode": "overlay",
              "size": 10,
              "solidity": 0.2
             }
            },
            "type": "histogram"
           }
          ],
          "histogram2d": [
           {
            "colorbar": {
             "outlinewidth": 0,
             "ticks": ""
            },
            "colorscale": [
             [
              0,
              "#0d0887"
             ],
             [
              0.1111111111111111,
              "#46039f"
             ],
             [
              0.2222222222222222,
              "#7201a8"
             ],
             [
              0.3333333333333333,
              "#9c179e"
             ],
             [
              0.4444444444444444,
              "#bd3786"
             ],
             [
              0.5555555555555556,
              "#d8576b"
             ],
             [
              0.6666666666666666,
              "#ed7953"
             ],
             [
              0.7777777777777778,
              "#fb9f3a"
             ],
             [
              0.8888888888888888,
              "#fdca26"
             ],
             [
              1,
              "#f0f921"
             ]
            ],
            "type": "histogram2d"
           }
          ],
          "histogram2dcontour": [
           {
            "colorbar": {
             "outlinewidth": 0,
             "ticks": ""
            },
            "colorscale": [
             [
              0,
              "#0d0887"
             ],
             [
              0.1111111111111111,
              "#46039f"
             ],
             [
              0.2222222222222222,
              "#7201a8"
             ],
             [
              0.3333333333333333,
              "#9c179e"
             ],
             [
              0.4444444444444444,
              "#bd3786"
             ],
             [
              0.5555555555555556,
              "#d8576b"
             ],
             [
              0.6666666666666666,
              "#ed7953"
             ],
             [
              0.7777777777777778,
              "#fb9f3a"
             ],
             [
              0.8888888888888888,
              "#fdca26"
             ],
             [
              1,
              "#f0f921"
             ]
            ],
            "type": "histogram2dcontour"
           }
          ],
          "mesh3d": [
           {
            "colorbar": {
             "outlinewidth": 0,
             "ticks": ""
            },
            "type": "mesh3d"
           }
          ],
          "parcoords": [
           {
            "line": {
             "colorbar": {
              "outlinewidth": 0,
              "ticks": ""
             }
            },
            "type": "parcoords"
           }
          ],
          "pie": [
           {
            "automargin": true,
            "type": "pie"
           }
          ],
          "scatter": [
           {
            "fillpattern": {
             "fillmode": "overlay",
             "size": 10,
             "solidity": 0.2
            },
            "type": "scatter"
           }
          ],
          "scatter3d": [
           {
            "line": {
             "colorbar": {
              "outlinewidth": 0,
              "ticks": ""
             }
            },
            "marker": {
             "colorbar": {
              "outlinewidth": 0,
              "ticks": ""
             }
            },
            "type": "scatter3d"
           }
          ],
          "scattercarpet": [
           {
            "marker": {
             "colorbar": {
              "outlinewidth": 0,
              "ticks": ""
             }
            },
            "type": "scattercarpet"
           }
          ],
          "scattergeo": [
           {
            "marker": {
             "colorbar": {
              "outlinewidth": 0,
              "ticks": ""
             }
            },
            "type": "scattergeo"
           }
          ],
          "scattergl": [
           {
            "marker": {
             "colorbar": {
              "outlinewidth": 0,
              "ticks": ""
             }
            },
            "type": "scattergl"
           }
          ],
          "scattermap": [
           {
            "marker": {
             "colorbar": {
              "outlinewidth": 0,
              "ticks": ""
             }
            },
            "type": "scattermap"
           }
          ],
          "scattermapbox": [
           {
            "marker": {
             "colorbar": {
              "outlinewidth": 0,
              "ticks": ""
             }
            },
            "type": "scattermapbox"
           }
          ],
          "scatterpolar": [
           {
            "marker": {
             "colorbar": {
              "outlinewidth": 0,
              "ticks": ""
             }
            },
            "type": "scatterpolar"
           }
          ],
          "scatterpolargl": [
           {
            "marker": {
             "colorbar": {
              "outlinewidth": 0,
              "ticks": ""
             }
            },
            "type": "scatterpolargl"
           }
          ],
          "scatterternary": [
           {
            "marker": {
             "colorbar": {
              "outlinewidth": 0,
              "ticks": ""
             }
            },
            "type": "scatterternary"
           }
          ],
          "surface": [
           {
            "colorbar": {
             "outlinewidth": 0,
             "ticks": ""
            },
            "colorscale": [
             [
              0,
              "#0d0887"
             ],
             [
              0.1111111111111111,
              "#46039f"
             ],
             [
              0.2222222222222222,
              "#7201a8"
             ],
             [
              0.3333333333333333,
              "#9c179e"
             ],
             [
              0.4444444444444444,
              "#bd3786"
             ],
             [
              0.5555555555555556,
              "#d8576b"
             ],
             [
              0.6666666666666666,
              "#ed7953"
             ],
             [
              0.7777777777777778,
              "#fb9f3a"
             ],
             [
              0.8888888888888888,
              "#fdca26"
             ],
             [
              1,
              "#f0f921"
             ]
            ],
            "type": "surface"
           }
          ],
          "table": [
           {
            "cells": {
             "fill": {
              "color": "#EBF0F8"
             },
             "line": {
              "color": "white"
             }
            },
            "header": {
             "fill": {
              "color": "#C8D4E3"
             },
             "line": {
              "color": "white"
             }
            },
            "type": "table"
           }
          ]
         },
         "layout": {
          "annotationdefaults": {
           "arrowcolor": "#2a3f5f",
           "arrowhead": 0,
           "arrowwidth": 1
          },
          "autotypenumbers": "strict",
          "coloraxis": {
           "colorbar": {
            "outlinewidth": 0,
            "ticks": ""
           }
          },
          "colorscale": {
           "diverging": [
            [
             0,
             "#8e0152"
            ],
            [
             0.1,
             "#c51b7d"
            ],
            [
             0.2,
             "#de77ae"
            ],
            [
             0.3,
             "#f1b6da"
            ],
            [
             0.4,
             "#fde0ef"
            ],
            [
             0.5,
             "#f7f7f7"
            ],
            [
             0.6,
             "#e6f5d0"
            ],
            [
             0.7,
             "#b8e186"
            ],
            [
             0.8,
             "#7fbc41"
            ],
            [
             0.9,
             "#4d9221"
            ],
            [
             1,
             "#276419"
            ]
           ],
           "sequential": [
            [
             0,
             "#0d0887"
            ],
            [
             0.1111111111111111,
             "#46039f"
            ],
            [
             0.2222222222222222,
             "#7201a8"
            ],
            [
             0.3333333333333333,
             "#9c179e"
            ],
            [
             0.4444444444444444,
             "#bd3786"
            ],
            [
             0.5555555555555556,
             "#d8576b"
            ],
            [
             0.6666666666666666,
             "#ed7953"
            ],
            [
             0.7777777777777778,
             "#fb9f3a"
            ],
            [
             0.8888888888888888,
             "#fdca26"
            ],
            [
             1,
             "#f0f921"
            ]
           ],
           "sequentialminus": [
            [
             0,
             "#0d0887"
            ],
            [
             0.1111111111111111,
             "#46039f"
            ],
            [
             0.2222222222222222,
             "#7201a8"
            ],
            [
             0.3333333333333333,
             "#9c179e"
            ],
            [
             0.4444444444444444,
             "#bd3786"
            ],
            [
             0.5555555555555556,
             "#d8576b"
            ],
            [
             0.6666666666666666,
             "#ed7953"
            ],
            [
             0.7777777777777778,
             "#fb9f3a"
            ],
            [
             0.8888888888888888,
             "#fdca26"
            ],
            [
             1,
             "#f0f921"
            ]
           ]
          },
          "colorway": [
           "#636efa",
           "#EF553B",
           "#00cc96",
           "#ab63fa",
           "#FFA15A",
           "#19d3f3",
           "#FF6692",
           "#B6E880",
           "#FF97FF",
           "#FECB52"
          ],
          "font": {
           "color": "#2a3f5f"
          },
          "geo": {
           "bgcolor": "white",
           "lakecolor": "white",
           "landcolor": "#E5ECF6",
           "showlakes": true,
           "showland": true,
           "subunitcolor": "white"
          },
          "hoverlabel": {
           "align": "left"
          },
          "hovermode": "closest",
          "mapbox": {
           "style": "light"
          },
          "paper_bgcolor": "white",
          "plot_bgcolor": "#E5ECF6",
          "polar": {
           "angularaxis": {
            "gridcolor": "white",
            "linecolor": "white",
            "ticks": ""
           },
           "bgcolor": "#E5ECF6",
           "radialaxis": {
            "gridcolor": "white",
            "linecolor": "white",
            "ticks": ""
           }
          },
          "scene": {
           "xaxis": {
            "backgroundcolor": "#E5ECF6",
            "gridcolor": "white",
            "gridwidth": 2,
            "linecolor": "white",
            "showbackground": true,
            "ticks": "",
            "zerolinecolor": "white"
           },
           "yaxis": {
            "backgroundcolor": "#E5ECF6",
            "gridcolor": "white",
            "gridwidth": 2,
            "linecolor": "white",
            "showbackground": true,
            "ticks": "",
            "zerolinecolor": "white"
           },
           "zaxis": {
            "backgroundcolor": "#E5ECF6",
            "gridcolor": "white",
            "gridwidth": 2,
            "linecolor": "white",
            "showbackground": true,
            "ticks": "",
            "zerolinecolor": "white"
           }
          },
          "shapedefaults": {
           "line": {
            "color": "#2a3f5f"
           }
          },
          "ternary": {
           "aaxis": {
            "gridcolor": "white",
            "linecolor": "white",
            "ticks": ""
           },
           "baxis": {
            "gridcolor": "white",
            "linecolor": "white",
            "ticks": ""
           },
           "bgcolor": "#E5ECF6",
           "caxis": {
            "gridcolor": "white",
            "linecolor": "white",
            "ticks": ""
           }
          },
          "title": {
           "x": 0.05
          },
          "xaxis": {
           "automargin": true,
           "gridcolor": "white",
           "linecolor": "white",
           "ticks": "",
           "title": {
            "standoff": 15
           },
           "zerolinecolor": "white",
           "zerolinewidth": 2
          },
          "yaxis": {
           "automargin": true,
           "gridcolor": "white",
           "linecolor": "white",
           "ticks": "",
           "title": {
            "standoff": 15
           },
           "zerolinecolor": "white",
           "zerolinewidth": 2
          }
         }
        },
        "title": {
         "text": "2D Chroma Vector Store Visualization"
        },
        "width": 800,
        "xaxis": {
         "title": {
          "text": "t-SNE Component 1"
         }
        },
        "yaxis": {
         "title": {
          "text": "t-SNE Component 2"
         }
        }
       }
      },
      "image/png": "[encoded data removed]"
     },
     "metadata": {},
     "output_type": "display_data"
    }
   ],
   "source": [
    "# Reduce the dimensionality of the vectors to 2D using t-SNE (t-distributed stochastic neighbor embedding)\n",
    "\n",
    "try:\n",
    "    tsne = TSNE(n_components=2, random_state=42)\n",
    "    reduced_vectors = tsne.fit_transform(vectors)\n",
    "except:\n",
    "    # for small data documents\n",
    "    tsne = TSNE(n_components=2, random_state=42, perplexity=10)\n",
    "    reduced_vectors = tsne.fit_transform(vectors)\n",
    "\n",
    "# Create the 2D scatter plot\n",
    "fig = go.Figure(data=[go.Scatter(\n",
    "    x=reduced_vectors[:, 0],\n",
    "    y=reduced_vectors[:, 1],\n",
    "    mode='markers',\n",
    "    marker=dict(size=5, color=colors, opacity=0.8),\n",
    "    text=[f\"Type: {t}<br>Text: {d[:100]}...\" for t, d in zip(doc_types, documents)],\n",
    "    hoverinfo='text'\n",
    ")])\n",
    "\n",
    "fig.update_layout(\n",
    "    title='2D Chroma Vector Store Visualization',\n",
    "    xaxis_title='t-SNE Component 1',\n",
    "    yaxis_title='t-SNE Component 2',\n",
    "    width=800,\n",
    "    height=600,\n",
    "    margin=dict(r=20, b=10, l=10, t=40)\n",
    ")\n",
    "\n",
    "fig.show()"
   ]
  },
  {
   "cell_type": "code",
   "execution_count": 20,
   "id": "8ad56e60-e5de-489e-9b7f-bcc577fab6b4",
   "metadata": {},
   "outputs": [
    {
     "data": {
      "application/vnd.plotly.v1+json": {
       "config": {
        "plotlyServerURL": "https://plot.ly"
       },
       "data": [
        {
         "hoverinfo": "text",
         "marker": {
          "color": [
           "orange",
           "orange",
           "orange",
           "orange",
           "orange",
           "orange",
           "orange",
           "orange",
           "blue",
           "blue",
           "blue",
           "blue",
           "blue",
           "blue",
           "blue",
           "blue",
           "blue",
           "blue",
           "blue",
           "blue",
           "blue",
           "blue",
           "blue"
          ],
          "opacity": 0.8,
          "size": 5
         },
         "mode": "markers",
         "text": [
          "Type: company<br>Text: Company Profile\nNexaTech Solutions is a leading technology company founded in 2018, specializing in ...",
          "Type: company<br>Text: Awards & Recognition:\n\"Best Enterprise Software Company 2024\" - TechCrunch\n\"Top 50 SaaS Companies to...",
          "Type: company<br>Text: Careers at NexaTech Solutions\nJoin Our Growing Team\nAt NexaTech Solutions, we're building the future...",
          "Type: company<br>Text: Current Open Positions:\n1. Engineering\nSenior Full-Stack Developer (Austin, TX / Remote)\nDevOps Engi...",
          "Type: company<br>Text: Employee Testimonials:\n\"NexaTech has been an incredible place to grow my career. The leadership team...",
          "Type: company<br>Text: Company Overview\nNexaTech Solutions transforms how businesses operate through our comprehensive suit...",
          "Type: company<br>Text: 2. CustomerVault CRM\nComprehensive customer relationship management system with built-in sales autom...",
          "Type: company<br>Text: Industry Focus:\nTechnology & Software\nFinancial Services\nHealthcare\nManufacturing\nProfessional Servi...",
          "Type: products<br>Text: CustomerVault CRM\nCustomerVault CRM is a comprehensive customer relationship management platform tha...",
          "Type: products<br>Text: 3. Customer Service\nSupport Ticket System: Multi-channel case management\nKnowledge Base: Self-servic...",
          "Type: products<br>Text: Integration Capabilities:\nPre-built connectors for:\nMarketing: HubSpot, Mailchimp, Google Ads\nCommun...",
          "Type: products<br>Text: DataMind Analytics\nDataMind Analytics is NexaTech's business intelligence platform that transforms c...",
          "Type: products<br>Text: 3. AI-Powered Analytics\nPredictive Modeling: Machine learning algorithms for forecasting\nAnomaly Det...",
          "Type: products<br>Text: 2. Financial Services\nRisk assessment modeling\nFraud detection algorithms\nPortfolio performance anal...",
          "Type: products<br>Text: Success Metrics:\nOrganizations using DataMind Analytics report:\n40% faster decision-making processes...",
          "Type: products<br>Text: ProjectFlow Pro\nProjectFlow Pro is NexaTech's flagship project management solution, designed specifi...",
          "Type: products<br>Text: 3. Collaboration Tools\nReal-Time Comments: Contextual discussions on tasks and projects\nFile Version...",
          "Type: products<br>Text: Pricing:\nStarter: $15/user/month (up to 100 users)\nProfessional: $25/user/month (unlimited users)\nEn...",
          "Type: products<br>Text: TeamSync Hub\nTeamSync Hub is NexaTech's comprehensive team collaboration platform that unifies commu...",
          "Type: products<br>Text: 2. Video Conferencing\nHD Video Calls: Up to 500 participants with crystal-clear quality\nScreen Shari...",
          "Type: products<br>Text: Productivity Tools:\n1. Task Management\nIntegrated To-Do Lists: Personal and team task management\nPro...",
          "Type: products<br>Text: Platform Capabilities:\n1. Cross-Platform Access\nDesktop Applications: Native apps for Windows, macOS...",
          "Type: products<br>Text: Pricing Structure:\nBasic: Free (up to 10 users, basic features)\nStandard: $8/user/month (unlimited u..."
         ],
         "type": "scatter3d",
         "x": {
          "bdata": "xxOXwmPz80EsK7jBhmvLP/2+xsIXrpRCZCtbQ8tXLcI6Lt7ChePDQYszlcKjmoNClYumQkcypsKqnvxBwWISQx46BUP3VQ9DX+2RQb/OBcJcjcXCL8hbwUdLI8M=",
          "dtype": "f4"
         },
         "y": {
          "bdata": "6fx8wgbM+0LGp/DC/9e+wrpur8JFmjFCF36tw/e1V8ObNRpDt7RGQh1QUkKTqR5DroihwgqidkLL2QlDge3VwEVYK8OPmyBCgmbUQA3VH0KzSEVDbK5Pwps1wEA=",
          "dtype": "f4"
         },
         "z": {
          "bdata": "HYW5QiZ5CMPw1utBRDuewop0U8EK8GjC8+/iwtVgSsJFXqFC32NvQ3mMCsMSUzbBHYCxQjMLRsBFuZ9CZw/wwZtTAULANpVC9Z6OQeyJC0Mca0jCT5k+w5UDpsI=",
          "dtype": "f4"
         }
        }
       ],
       "layout": {
        "height": 700,
        "margin": {
         "b": 10,
         "l": 10,
         "r": 20,
         "t": 40
        },
        "scene": {
         "xaxis": {
          "title": {
           "text": "x"
          }
         },
         "yaxis": {
          "title": {
           "text": "y"
          }
         },
         "zaxis": {
          "title": {
           "text": "z"
          }
         }
        },
        "template": {
         "data": {
          "bar": [
           {
            "error_x": {
             "color": "#2a3f5f"
            },
            "error_y": {
             "color": "#2a3f5f"
            },
            "marker": {
             "line": {
              "color": "#E5ECF6",
              "width": 0.5
             },
             "pattern": {
              "fillmode": "overlay",
              "size": 10,
              "solidity": 0.2
             }
            },
            "type": "bar"
           }
          ],
          "barpolar": [
           {
            "marker": {
             "line": {
              "color": "#E5ECF6",
              "width": 0.5
             },
             "pattern": {
              "fillmode": "overlay",
              "size": 10,
              "solidity": 0.2
             }
            },
            "type": "barpolar"
           }
          ],
          "carpet": [
           {
            "aaxis": {
             "endlinecolor": "#2a3f5f",
             "gridcolor": "white",
             "linecolor": "white",
             "minorgridcolor": "white",
             "startlinecolor": "#2a3f5f"
            },
            "baxis": {
             "endlinecolor": "#2a3f5f",
             "gridcolor": "white",
             "linecolor": "white",
             "minorgridcolor": "white",
             "startlinecolor": "#2a3f5f"
            },
            "type": "carpet"
           }
          ],
          "choropleth": [
           {
            "colorbar": {
             "outlinewidth": 0,
             "ticks": ""
            },
            "type": "choropleth"
           }
          ],
          "contour": [
           {
            "colorbar": {
             "outlinewidth": 0,
             "ticks": ""
            },
            "colorscale": [
             [
              0,
              "#0d0887"
             ],
             [
              0.1111111111111111,
              "#46039f"
             ],
             [
              0.2222222222222222,
              "#7201a8"
             ],
             [
              0.3333333333333333,
              "#9c179e"
             ],
             [
              0.4444444444444444,
              "#bd3786"
             ],
             [
              0.5555555555555556,
              "#d8576b"
             ],
             [
              0.6666666666666666,
              "#ed7953"
             ],
             [
              0.7777777777777778,
              "#fb9f3a"
             ],
             [
              0.8888888888888888,
              "#fdca26"
             ],
             [
              1,
              "#f0f921"
             ]
            ],
            "type": "contour"
           }
          ],
          "contourcarpet": [
           {
            "colorbar": {
             "outlinewidth": 0,
             "ticks": ""
            },
            "type": "contourcarpet"
           }
          ],
          "heatmap": [
           {
            "colorbar": {
             "outlinewidth": 0,
             "ticks": ""
            },
            "colorscale": [
             [
              0,
              "#0d0887"
             ],
             [
              0.1111111111111111,
              "#46039f"
             ],
             [
              0.2222222222222222,
              "#7201a8"
             ],
             [
              0.3333333333333333,
              "#9c179e"
             ],
             [
              0.4444444444444444,
              "#bd3786"
             ],
             [
              0.5555555555555556,
              "#d8576b"
             ],
             [
              0.6666666666666666,
              "#ed7953"
             ],
             [
              0.7777777777777778,
              "#fb9f3a"
             ],
             [
              0.8888888888888888,
              "#fdca26"
             ],
             [
              1,
              "#f0f921"
             ]
            ],
            "type": "heatmap"
           }
          ],
          "histogram": [
           {
            "marker": {
             "pattern": {
              "fillmode": "overlay",
              "size": 10,
              "solidity": 0.2
             }
            },
            "type": "histogram"
           }
          ],
          "histogram2d": [
           {
            "colorbar": {
             "outlinewidth": 0,
             "ticks": ""
            },
            "colorscale": [
             [
              0,
              "#0d0887"
             ],
             [
              0.1111111111111111,
              "#46039f"
             ],
             [
              0.2222222222222222,
              "#7201a8"
             ],
             [
              0.3333333333333333,
              "#9c179e"
             ],
             [
              0.4444444444444444,
              "#bd3786"
             ],
             [
              0.5555555555555556,
              "#d8576b"
             ],
             [
              0.6666666666666666,
              "#ed7953"
             ],
             [
              0.7777777777777778,
              "#fb9f3a"
             ],
             [
              0.8888888888888888,
              "#fdca26"
             ],
             [
              1,
              "#f0f921"
             ]
            ],
            "type": "histogram2d"
           }
          ],
          "histogram2dcontour": [
           {
            "colorbar": {
             "outlinewidth": 0,
             "ticks": ""
            },
            "colorscale": [
             [
              0,
              "#0d0887"
             ],
             [
              0.1111111111111111,
              "#46039f"
             ],
             [
              0.2222222222222222,
              "#7201a8"
             ],
             [
              0.3333333333333333,
              "#9c179e"
             ],
             [
              0.4444444444444444,
              "#bd3786"
             ],
             [
              0.5555555555555556,
              "#d8576b"
             ],
             [
              0.6666666666666666,
              "#ed7953"
             ],
             [
              0.7777777777777778,
              "#fb9f3a"
             ],
             [
              0.8888888888888888,
              "#fdca26"
             ],
             [
              1,
              "#f0f921"
             ]
            ],
            "type": "histogram2dcontour"
           }
          ],
          "mesh3d": [
           {
            "colorbar": {
             "outlinewidth": 0,
             "ticks": ""
            },
            "type": "mesh3d"
           }
          ],
          "parcoords": [
           {
            "line": {
             "colorbar": {
              "outlinewidth": 0,
              "ticks": ""
             }
            },
            "type": "parcoords"
           }
          ],
          "pie": [
           {
            "automargin": true,
            "type": "pie"
           }
          ],
          "scatter": [
           {
            "fillpattern": {
             "fillmode": "overlay",
             "size": 10,
             "solidity": 0.2
            },
            "type": "scatter"
           }
          ],
          "scatter3d": [
           {
            "line": {
             "colorbar": {
              "outlinewidth": 0,
              "ticks": ""
             }
            },
            "marker": {
             "colorbar": {
              "outlinewidth": 0,
              "ticks": ""
             }
            },
            "type": "scatter3d"
           }
          ],
          "scattercarpet": [
           {
            "marker": {
             "colorbar": {
              "outlinewidth": 0,
              "ticks": ""
             }
            },
            "type": "scattercarpet"
           }
          ],
          "scattergeo": [
           {
            "marker": {
             "colorbar": {
              "outlinewidth": 0,
              "ticks": ""
             }
            },
            "type": "scattergeo"
           }
          ],
          "scattergl": [
           {
            "marker": {
             "colorbar": {
              "outlinewidth": 0,
              "ticks": ""
             }
            },
            "type": "scattergl"
           }
          ],
          "scattermap": [
           {
            "marker": {
             "colorbar": {
              "outlinewidth": 0,
              "ticks": ""
             }
            },
            "type": "scattermap"
           }
          ],
          "scattermapbox": [
           {
            "marker": {
             "colorbar": {
              "outlinewidth": 0,
              "ticks": ""
             }
            },
            "type": "scattermapbox"
           }
          ],
          "scatterpolar": [
           {
            "marker": {
             "colorbar": {
              "outlinewidth": 0,
              "ticks": ""
             }
            },
            "type": "scatterpolar"
           }
          ],
          "scatterpolargl": [
           {
            "marker": {
             "colorbar": {
              "outlinewidth": 0,
              "ticks": ""
             }
            },
            "type": "scatterpolargl"
           }
          ],
          "scatterternary": [
           {
            "marker": {
             "colorbar": {
              "outlinewidth": 0,
              "ticks": ""
             }
            },
            "type": "scatterternary"
           }
          ],
          "surface": [
           {
            "colorbar": {
             "outlinewidth": 0,
             "ticks": ""
            },
            "colorscale": [
             [
              0,
              "#0d0887"
             ],
             [
              0.1111111111111111,
              "#46039f"
             ],
             [
              0.2222222222222222,
              "#7201a8"
             ],
             [
              0.3333333333333333,
              "#9c179e"
             ],
             [
              0.4444444444444444,
              "#bd3786"
             ],
             [
              0.5555555555555556,
              "#d8576b"
             ],
             [
              0.6666666666666666,
              "#ed7953"
             ],
             [
              0.7777777777777778,
              "#fb9f3a"
             ],
             [
              0.8888888888888888,
              "#fdca26"
             ],
             [
              1,
              "#f0f921"
             ]
            ],
            "type": "surface"
           }
          ],
          "table": [
           {
            "cells": {
             "fill": {
              "color": "#EBF0F8"
             },
             "line": {
              "color": "white"
             }
            },
            "header": {
             "fill": {
              "color": "#C8D4E3"
             },
             "line": {
              "color": "white"
             }
            },
            "type": "table"
           }
          ]
         },
         "layout": {
          "annotationdefaults": {
           "arrowcolor": "#2a3f5f",
           "arrowhead": 0,
           "arrowwidth": 1
          },
          "autotypenumbers": "strict",
          "coloraxis": {
           "colorbar": {
            "outlinewidth": 0,
            "ticks": ""
           }
          },
          "colorscale": {
           "diverging": [
            [
             0,
             "#8e0152"
            ],
            [
             0.1,
             "#c51b7d"
            ],
            [
             0.2,
             "#de77ae"
            ],
            [
             0.3,
             "#f1b6da"
            ],
            [
             0.4,
             "#fde0ef"
            ],
            [
             0.5,
             "#f7f7f7"
            ],
            [
             0.6,
             "#e6f5d0"
            ],
            [
             0.7,
             "#b8e186"
            ],
            [
             0.8,
             "#7fbc41"
            ],
            [
             0.9,
             "#4d9221"
            ],
            [
             1,
             "#276419"
            ]
           ],
           "sequential": [
            [
             0,
             "#0d0887"
            ],
            [
             0.1111111111111111,
             "#46039f"
            ],
            [
             0.2222222222222222,
             "#7201a8"
            ],
            [
             0.3333333333333333,
             "#9c179e"
            ],
            [
             0.4444444444444444,
             "#bd3786"
            ],
            [
             0.5555555555555556,
             "#d8576b"
            ],
            [
             0.6666666666666666,
             "#ed7953"
            ],
            [
             0.7777777777777778,
             "#fb9f3a"
            ],
            [
             0.8888888888888888,
             "#fdca26"
            ],
            [
             1,
             "#f0f921"
            ]
           ],
           "sequentialminus": [
            [
             0,
             "#0d0887"
            ],
            [
             0.1111111111111111,
             "#46039f"
            ],
            [
             0.2222222222222222,
             "#7201a8"
            ],
            [
             0.3333333333333333,
             "#9c179e"
            ],
            [
             0.4444444444444444,
             "#bd3786"
            ],
            [
             0.5555555555555556,
             "#d8576b"
            ],
            [
             0.6666666666666666,
             "#ed7953"
            ],
            [
             0.7777777777777778,
             "#fb9f3a"
            ],
            [
             0.8888888888888888,
             "#fdca26"
            ],
            [
             1,
             "#f0f921"
            ]
           ]
          },
          "colorway": [
           "#636efa",
           "#EF553B",
           "#00cc96",
           "#ab63fa",
           "#FFA15A",
           "#19d3f3",
           "#FF6692",
           "#B6E880",
           "#FF97FF",
           "#FECB52"
          ],
          "font": {
           "color": "#2a3f5f"
          },
          "geo": {
           "bgcolor": "white",
           "lakecolor": "white",
           "landcolor": "#E5ECF6",
           "showlakes": true,
           "showland": true,
           "subunitcolor": "white"
          },
          "hoverlabel": {
           "align": "left"
          },
          "hovermode": "closest",
          "mapbox": {
           "style": "light"
          },
          "paper_bgcolor": "white",
          "plot_bgcolor": "#E5ECF6",
          "polar": {
           "angularaxis": {
            "gridcolor": "white",
            "linecolor": "white",
            "ticks": ""
           },
           "bgcolor": "#E5ECF6",
           "radialaxis": {
            "gridcolor": "white",
            "linecolor": "white",
            "ticks": ""
           }
          },
          "scene": {
           "xaxis": {
            "backgroundcolor": "#E5ECF6",
            "gridcolor": "white",
            "gridwidth": 2,
            "linecolor": "white",
            "showbackground": true,
            "ticks": "",
            "zerolinecolor": "white"
           },
           "yaxis": {
            "backgroundcolor": "#E5ECF6",
            "gridcolor": "white",
            "gridwidth": 2,
            "linecolor": "white",
            "showbackground": true,
            "ticks": "",
            "zerolinecolor": "white"
           },
           "zaxis": {
            "backgroundcolor": "#E5ECF6",
            "gridcolor": "white",
            "gridwidth": 2,
            "linecolor": "white",
            "showbackground": true,
            "ticks": "",
            "zerolinecolor": "white"
           }
          },
          "shapedefaults": {
           "line": {
            "color": "#2a3f5f"
           }
          },
          "ternary": {
           "aaxis": {
            "gridcolor": "white",
            "linecolor": "white",
            "ticks": ""
           },
           "baxis": {
            "gridcolor": "white",
            "linecolor": "white",
            "ticks": ""
           },
           "bgcolor": "#E5ECF6",
           "caxis": {
            "gridcolor": "white",
            "linecolor": "white",
            "ticks": ""
           }
          },
          "title": {
           "x": 0.05
          },
          "xaxis": {
           "automargin": true,
           "gridcolor": "white",
           "linecolor": "white",
           "ticks": "",
           "title": {
            "standoff": 15
           },
           "zerolinecolor": "white",
           "zerolinewidth": 2
          },
          "yaxis": {
           "automargin": true,
           "gridcolor": "white",
           "linecolor": "white",
           "ticks": "",
           "title": {
            "standoff": 15
           },
           "zerolinecolor": "white",
           "zerolinewidth": 2
          }
         }
        },
        "title": {
         "text": "3D Chroma Vector Store Visualization"
        },
        "width": 900
       }
      },
      "image/png": "[encoded data removed]"
     },
     "metadata": {},
     "output_type": "display_data"
    }
   ],
   "source": [
    "# 3D Visualization\n",
    "\n",
    "try:\n",
    "    tsne = TSNE(n_components=3, random_state=42)\n",
    "    reduced_vectors = tsne.fit_transform(vectors)\n",
    "except:\n",
    "    tsne = TSNE(n_components=3, random_state=42, perplexity=10)\n",
    "    reduced_vectors = tsne.fit_transform(vectors)\n",
    "\n",
    "# Create the 3D scatter plot\n",
    "fig = go.Figure(data=[go.Scatter3d(\n",
    "    x=reduced_vectors[:, 0],\n",
    "    y=reduced_vectors[:, 1],\n",
    "    z=reduced_vectors[:, 2],\n",
    "    mode='markers',\n",
    "    marker=dict(size=5, color=colors, opacity=0.8),\n",
    "    text=[f\"Type: {t}<br>Text: {d[:100]}...\" for t, d in zip(doc_types, documents)],\n",
    "    hoverinfo='text'\n",
    ")])\n",
    "\n",
    "fig.update_layout(\n",
    "    title='3D Chroma Vector Store Visualization',\n",
    "    scene=dict(xaxis_title='x', yaxis_title='y', zaxis_title='z'),\n",
    "    width=900,\n",
    "    height=700,\n",
    "    margin=dict(r=20, b=10, l=10, t=40)\n",
    ")\n",
    "\n",
    "fig.show()"
   ]
  },
  {
   "cell_type": "markdown",
   "id": "12fb2d31-aee9-4a13-97fe-a5f594832108",
   "metadata": {},
   "source": [
    "## HuggingFaceEmbeddings"
   ]
  },
  {
   "cell_type": "code",
   "execution_count": 21,
   "id": "ff321281-dbf6-4412-b613-e528201ca370",
   "metadata": {},
   "outputs": [],
   "source": [
    "result = hf_collection.get(include=['embeddings', 'documents', 'metadatas'])\n",
    "vectors = np.array(result['embeddings'])\n",
    "documents = result['documents']\n",
    "doc_types = [metadata['doc_type'] for metadata in result['metadatas']]\n",
    "colors = [['blue', 'green', 'red', 'orange'][['products', 'employees', 'contracts', 'company'].index(t)] for t in doc_types]"
   ]
  },
  {
   "cell_type": "code",
   "execution_count": 22,
   "id": "f2f44565-69fe-4348-b699-eb837e132768",
   "metadata": {},
   "outputs": [
    {
     "data": {
      "application/vnd.plotly.v1+json": {
       "config": {
        "plotlyServerURL": "https://plot.ly"
       },
       "data": [
        {
         "hoverinfo": "text",
         "marker": {
          "color": [
           "orange",
           "orange",
           "orange",
           "orange",
           "orange",
           "orange",
           "orange",
           "orange",
           "blue",
           "blue",
           "blue",
           "blue",
           "blue",
           "blue",
           "blue",
           "blue",
           "blue",
           "blue",
           "blue",
           "blue",
           "blue",
           "blue",
           "blue"
          ],
          "opacity": 0.8,
          "size": 5
         },
         "mode": "markers",
         "text": [
          "Type: company<br>Text: Company Profile\nNexaTech Solutions is a leading technology company founded in 2018, specializing in ...",
          "Type: company<br>Text: Awards & Recognition:\n\"Best Enterprise Software Company 2024\" - TechCrunch\n\"Top 50 SaaS Companies to...",
          "Type: company<br>Text: Careers at NexaTech Solutions\nJoin Our Growing Team\nAt NexaTech Solutions, we're building the future...",
          "Type: company<br>Text: Current Open Positions:\n1. Engineering\nSenior Full-Stack Developer (Austin, TX / Remote)\nDevOps Engi...",
          "Type: company<br>Text: Employee Testimonials:\n\"NexaTech has been an incredible place to grow my career. The leadership team...",
          "Type: company<br>Text: Company Overview\nNexaTech Solutions transforms how businesses operate through our comprehensive suit...",
          "Type: company<br>Text: 2. CustomerVault CRM\nComprehensive customer relationship management system with built-in sales autom...",
          "Type: company<br>Text: Industry Focus:\nTechnology & Software\nFinancial Services\nHealthcare\nManufacturing\nProfessional Servi...",
          "Type: products<br>Text: CustomerVault CRM\nCustomerVault CRM is a comprehensive customer relationship management platform tha...",
          "Type: products<br>Text: 3. Customer Service\nSupport Ticket System: Multi-channel case management\nKnowledge Base: Self-servic...",
          "Type: products<br>Text: Integration Capabilities:\nPre-built connectors for:\nMarketing: HubSpot, Mailchimp, Google Ads\nCommun...",
          "Type: products<br>Text: DataMind Analytics\nDataMind Analytics is NexaTech's business intelligence platform that transforms c...",
          "Type: products<br>Text: 3. AI-Powered Analytics\nPredictive Modeling: Machine learning algorithms for forecasting\nAnomaly Det...",
          "Type: products<br>Text: 2. Financial Services\nRisk assessment modeling\nFraud detection algorithms\nPortfolio performance anal...",
          "Type: products<br>Text: Success Metrics:\nOrganizations using DataMind Analytics report:\n40% faster decision-making processes...",
          "Type: products<br>Text: ProjectFlow Pro\nProjectFlow Pro is NexaTech's flagship project management solution, designed specifi...",
          "Type: products<br>Text: 3. Collaboration Tools\nReal-Time Comments: Contextual discussions on tasks and projects\nFile Version...",
          "Type: products<br>Text: Pricing:\nStarter: $15/user/month (up to 100 users)\nProfessional: $25/user/month (unlimited users)\nEn...",
          "Type: products<br>Text: TeamSync Hub\nTeamSync Hub is NexaTech's comprehensive team collaboration platform that unifies commu...",
          "Type: products<br>Text: 2. Video Conferencing\nHD Video Calls: Up to 500 participants with crystal-clear quality\nScreen Shari...",
          "Type: products<br>Text: Productivity Tools:\n1. Task Management\nIntegrated To-Do Lists: Personal and team task management\nPro...",
          "Type: products<br>Text: Platform Capabilities:\n1. Cross-Platform Access\nDesktop Applications: Native apps for Windows, macOS...",
          "Type: products<br>Text: Pricing Structure:\nBasic: Free (up to 10 users, basic features)\nStandard: $8/user/month (unlimited u..."
         ],
         "type": "scatter",
         "x": {
          "bdata": "fhYrQokNrEGRXAZCMJ+UQYssbULp8VBCR+q+QHLiUMFgDI2+kAlVwZYVksEo/OxB35+QQfJzgkDf5SxCePd2QvIxicF/gGXCz0uaQpUNa8KceArC+ygrwmv8XcI=",
          "dtype": "f4"
         },
         "y": {
          "bdata": "/eIwwkgHA8L1uYLCTh2cwsVFWcKPxHzAFLJxQYmVRMJIdFvAzZ6oQamUgsEyDgFCDleMQoL1PULoukBCwAYhQcG6IkIwfA3C6k96wZPE70BVgmVCUv4GQpztgsE=",
          "dtype": "f4"
         }
        }
       ],
       "layout": {
        "height": 600,
        "margin": {
         "b": 10,
         "l": 10,
         "r": 20,
         "t": 40
        },
        "template": {
         "data": {
          "bar": [
           {
            "error_x": {
             "color": "#2a3f5f"
            },
            "error_y": {
             "color": "#2a3f5f"
            },
            "marker": {
             "line": {
              "color": "#E5ECF6",
              "width": 0.5
             },
             "pattern": {
              "fillmode": "overlay",
              "size": 10,
              "solidity": 0.2
             }
            },
            "type": "bar"
           }
          ],
          "barpolar": [
           {
            "marker": {
             "line": {
              "color": "#E5ECF6",
              "width": 0.5
             },
             "pattern": {
              "fillmode": "overlay",
              "size": 10,
              "solidity": 0.2
             }
            },
            "type": "barpolar"
           }
          ],
          "carpet": [
           {
            "aaxis": {
             "endlinecolor": "#2a3f5f",
             "gridcolor": "white",
             "linecolor": "white",
             "minorgridcolor": "white",
             "startlinecolor": "#2a3f5f"
            },
            "baxis": {
             "endlinecolor": "#2a3f5f",
             "gridcolor": "white",
             "linecolor": "white",
             "minorgridcolor": "white",
             "startlinecolor": "#2a3f5f"
            },
            "type": "carpet"
           }
          ],
          "choropleth": [
           {
            "colorbar": {
             "outlinewidth": 0,
             "ticks": ""
            },
            "type": "choropleth"
           }
          ],
          "contour": [
           {
            "colorbar": {
             "outlinewidth": 0,
             "ticks": ""
            },
            "colorscale": [
             [
              0,
              "#0d0887"
             ],
             [
              0.1111111111111111,
              "#46039f"
             ],
             [
              0.2222222222222222,
              "#7201a8"
             ],
             [
              0.3333333333333333,
              "#9c179e"
             ],
             [
              0.4444444444444444,
              "#bd3786"
             ],
             [
              0.5555555555555556,
              "#d8576b"
             ],
             [
              0.6666666666666666,
              "#ed7953"
             ],
             [
              0.7777777777777778,
              "#fb9f3a"
             ],
             [
              0.8888888888888888,
              "#fdca26"
             ],
             [
              1,
              "#f0f921"
             ]
            ],
            "type": "contour"
           }
          ],
          "contourcarpet": [
           {
            "colorbar": {
             "outlinewidth": 0,
             "ticks": ""
            },
            "type": "contourcarpet"
           }
          ],
          "heatmap": [
           {
            "colorbar": {
             "outlinewidth": 0,
             "ticks": ""
            },
            "colorscale": [
             [
              0,
              "#0d0887"
             ],
             [
              0.1111111111111111,
              "#46039f"
             ],
             [
              0.2222222222222222,
              "#7201a8"
             ],
             [
              0.3333333333333333,
              "#9c179e"
             ],
             [
              0.4444444444444444,
              "#bd3786"
             ],
             [
              0.5555555555555556,
              "#d8576b"
             ],
             [
              0.6666666666666666,
              "#ed7953"
             ],
             [
              0.7777777777777778,
              "#fb9f3a"
             ],
             [
              0.8888888888888888,
              "#fdca26"
             ],
             [
              1,
              "#f0f921"
             ]
            ],
            "type": "heatmap"
           }
          ],
          "histogram": [
           {
            "marker": {
             "pattern": {
              "fillmode": "overlay",
              "size": 10,
              "solidity": 0.2
             }
            },
            "type": "histogram"
           }
          ],
          "histogram2d": [
           {
            "colorbar": {
             "outlinewidth": 0,
             "ticks": ""
            },
            "colorscale": [
             [
              0,
              "#0d0887"
             ],
             [
              0.1111111111111111,
              "#46039f"
             ],
             [
              0.2222222222222222,
              "#7201a8"
             ],
             [
              0.3333333333333333,
              "#9c179e"
             ],
             [
              0.4444444444444444,
              "#bd3786"
             ],
             [
              0.5555555555555556,
              "#d8576b"
             ],
             [
              0.6666666666666666,
              "#ed7953"
             ],
             [
              0.7777777777777778,
              "#fb9f3a"
             ],
             [
              0.8888888888888888,
              "#fdca26"
             ],
             [
              1,
              "#f0f921"
             ]
            ],
            "type": "histogram2d"
           }
          ],
          "histogram2dcontour": [
           {
            "colorbar": {
             "outlinewidth": 0,
             "ticks": ""
            },
            "colorscale": [
             [
              0,
              "#0d0887"
             ],
             [
              0.1111111111111111,
              "#46039f"
             ],
             [
              0.2222222222222222,
              "#7201a8"
             ],
             [
              0.3333333333333333,
              "#9c179e"
             ],
             [
              0.4444444444444444,
              "#bd3786"
             ],
             [
              0.5555555555555556,
              "#d8576b"
             ],
             [
              0.6666666666666666,
              "#ed7953"
             ],
             [
              0.7777777777777778,
              "#fb9f3a"
             ],
             [
              0.8888888888888888,
              "#fdca26"
             ],
             [
              1,
              "#f0f921"
             ]
            ],
            "type": "histogram2dcontour"
           }
          ],
          "mesh3d": [
           {
            "colorbar": {
             "outlinewidth": 0,
             "ticks": ""
            },
            "type": "mesh3d"
           }
          ],
          "parcoords": [
           {
            "line": {
             "colorbar": {
              "outlinewidth": 0,
              "ticks": ""
             }
            },
            "type": "parcoords"
           }
          ],
          "pie": [
           {
            "automargin": true,
            "type": "pie"
           }
          ],
          "scatter": [
           {
            "fillpattern": {
             "fillmode": "overlay",
             "size": 10,
             "solidity": 0.2
            },
            "type": "scatter"
           }
          ],
          "scatter3d": [
           {
            "line": {
             "colorbar": {
              "outlinewidth": 0,
              "ticks": ""
             }
            },
            "marker": {
             "colorbar": {
              "outlinewidth": 0,
              "ticks": ""
             }
            },
            "type": "scatter3d"
           }
          ],
          "scattercarpet": [
           {
            "marker": {
             "colorbar": {
              "outlinewidth": 0,
              "ticks": ""
             }
            },
            "type": "scattercarpet"
           }
          ],
          "scattergeo": [
           {
            "marker": {
             "colorbar": {
              "outlinewidth": 0,
              "ticks": ""
             }
            },
            "type": "scattergeo"
           }
          ],
          "scattergl": [
           {
            "marker": {
             "colorbar": {
              "outlinewidth": 0,
              "ticks": ""
             }
            },
            "type": "scattergl"
           }
          ],
          "scattermap": [
           {
            "marker": {
             "colorbar": {
              "outlinewidth": 0,
              "ticks": ""
             }
            },
            "type": "scattermap"
           }
          ],
          "scattermapbox": [
           {
            "marker": {
             "colorbar": {
              "outlinewidth": 0,
              "ticks": ""
             }
            },
            "type": "scattermapbox"
           }
          ],
          "scatterpolar": [
           {
            "marker": {
             "colorbar": {
              "outlinewidth": 0,
              "ticks": ""
             }
            },
            "type": "scatterpolar"
           }
          ],
          "scatterpolargl": [
           {
            "marker": {
             "colorbar": {
              "outlinewidth": 0,
              "ticks": ""
             }
            },
            "type": "scatterpolargl"
           }
          ],
          "scatterternary": [
           {
            "marker": {
             "colorbar": {
              "outlinewidth": 0,
              "ticks": ""
             }
            },
            "type": "scatterternary"
           }
          ],
          "surface": [
           {
            "colorbar": {
             "outlinewidth": 0,
             "ticks": ""
            },
            "colorscale": [
             [
              0,
              "#0d0887"
             ],
             [
              0.1111111111111111,
              "#46039f"
             ],
             [
              0.2222222222222222,
              "#7201a8"
             ],
             [
              0.3333333333333333,
              "#9c179e"
             ],
             [
              0.4444444444444444,
              "#bd3786"
             ],
             [
              0.5555555555555556,
              "#d8576b"
             ],
             [
              0.6666666666666666,
              "#ed7953"
             ],
             [
              0.7777777777777778,
              "#fb9f3a"
             ],
             [
              0.8888888888888888,
              "#fdca26"
             ],
             [
              1,
              "#f0f921"
             ]
            ],
            "type": "surface"
           }
          ],
          "table": [
           {
            "cells": {
             "fill": {
              "color": "#EBF0F8"
             },
             "line": {
              "color": "white"
             }
            },
            "header": {
             "fill": {
              "color": "#C8D4E3"
             },
             "line": {
              "color": "white"
             }
            },
            "type": "table"
           }
          ]
         },
         "layout": {
          "annotationdefaults": {
           "arrowcolor": "#2a3f5f",
           "arrowhead": 0,
           "arrowwidth": 1
          },
          "autotypenumbers": "strict",
          "coloraxis": {
           "colorbar": {
            "outlinewidth": 0,
            "ticks": ""
           }
          },
          "colorscale": {
           "diverging": [
            [
             0,
             "#8e0152"
            ],
            [
             0.1,
             "#c51b7d"
            ],
            [
             0.2,
             "#de77ae"
            ],
            [
             0.3,
             "#f1b6da"
            ],
            [
             0.4,
             "#fde0ef"
            ],
            [
             0.5,
             "#f7f7f7"
            ],
            [
             0.6,
             "#e6f5d0"
            ],
            [
             0.7,
             "#b8e186"
            ],
            [
             0.8,
             "#7fbc41"
            ],
            [
             0.9,
             "#4d9221"
            ],
            [
             1,
             "#276419"
            ]
           ],
           "sequential": [
            [
             0,
             "#0d0887"
            ],
            [
             0.1111111111111111,
             "#46039f"
            ],
            [
             0.2222222222222222,
             "#7201a8"
            ],
            [
             0.3333333333333333,
             "#9c179e"
            ],
            [
             0.4444444444444444,
             "#bd3786"
            ],
            [
             0.5555555555555556,
             "#d8576b"
            ],
            [
             0.6666666666666666,
             "#ed7953"
            ],
            [
             0.7777777777777778,
             "#fb9f3a"
            ],
            [
             0.8888888888888888,
             "#fdca26"
            ],
            [
             1,
             "#f0f921"
            ]
           ],
           "sequentialminus": [
            [
             0,
             "#0d0887"
            ],
            [
             0.1111111111111111,
             "#46039f"
            ],
            [
             0.2222222222222222,
             "#7201a8"
            ],
            [
             0.3333333333333333,
             "#9c179e"
            ],
            [
             0.4444444444444444,
             "#bd3786"
            ],
            [
             0.5555555555555556,
             "#d8576b"
            ],
            [
             0.6666666666666666,
             "#ed7953"
            ],
            [
             0.7777777777777778,
             "#fb9f3a"
            ],
            [
             0.8888888888888888,
             "#fdca26"
            ],
            [
             1,
             "#f0f921"
            ]
           ]
          },
          "colorway": [
           "#636efa",
           "#EF553B",
           "#00cc96",
           "#ab63fa",
           "#FFA15A",
           "#19d3f3",
           "#FF6692",
           "#B6E880",
           "#FF97FF",
           "#FECB52"
          ],
          "font": {
           "color": "#2a3f5f"
          },
          "geo": {
           "bgcolor": "white",
           "lakecolor": "white",
           "landcolor": "#E5ECF6",
           "showlakes": true,
           "showland": true,
           "subunitcolor": "white"
          },
          "hoverlabel": {
           "align": "left"
          },
          "hovermode": "closest",
          "mapbox": {
           "style": "light"
          },
          "paper_bgcolor": "white",
          "plot_bgcolor": "#E5ECF6",
          "polar": {
           "angularaxis": {
            "gridcolor": "white",
            "linecolor": "white",
            "ticks": ""
           },
           "bgcolor": "#E5ECF6",
           "radialaxis": {
            "gridcolor": "white",
            "linecolor": "white",
            "ticks": ""
           }
          },
          "scene": {
           "xaxis": {
            "backgroundcolor": "#E5ECF6",
            "gridcolor": "white",
            "gridwidth": 2,
            "linecolor": "white",
            "showbackground": true,
            "ticks": "",
            "zerolinecolor": "white"
           },
           "yaxis": {
            "backgroundcolor": "#E5ECF6",
            "gridcolor": "white",
            "gridwidth": 2,
            "linecolor": "white",
            "showbackground": true,
            "ticks": "",
            "zerolinecolor": "white"
           },
           "zaxis": {
            "backgroundcolor": "#E5ECF6",
            "gridcolor": "white",
            "gridwidth": 2,
            "linecolor": "white",
            "showbackground": true,
            "ticks": "",
            "zerolinecolor": "white"
           }
          },
          "shapedefaults": {
           "line": {
            "color": "#2a3f5f"
           }
          },
          "ternary": {
           "aaxis": {
            "gridcolor": "white",
            "linecolor": "white",
            "ticks": ""
           },
           "baxis": {
            "gridcolor": "white",
            "linecolor": "white",
            "ticks": ""
           },
           "bgcolor": "#E5ECF6",
           "caxis": {
            "gridcolor": "white",
            "linecolor": "white",
            "ticks": ""
           }
          },
          "title": {
           "x": 0.05
          },
          "xaxis": {
           "automargin": true,
           "gridcolor": "white",
           "linecolor": "white",
           "ticks": "",
           "title": {
            "standoff": 15
           },
           "zerolinecolor": "white",
           "zerolinewidth": 2
          },
          "yaxis": {
           "automargin": true,
           "gridcolor": "white",
           "linecolor": "white",
           "ticks": "",
           "title": {
            "standoff": 15
           },
           "zerolinecolor": "white",
           "zerolinewidth": 2
          }
         }
        },
        "title": {
         "text": "2D HF Chroma Vector Store Visualization"
        },
        "width": 800,
        "xaxis": {
         "title": {
          "text": "t-SNE Component 1"
         }
        },
        "yaxis": {
         "title": {
          "text": "t-SNE Component 2"
         }
        }
       }
      },
      "image/png": "[encoded data removed]"
     },
     "metadata": {},
     "output_type": "display_data"
    }
   ],
   "source": [
    "# Reduce the dimensionality of the vectors to 2D using t-SNE (t-distributed stochastic neighbor embedding)\n",
    "\n",
    "try:\n",
    "    tsne = TSNE(n_components=2, random_state=42)\n",
    "    reduced_vectors = tsne.fit_transform(vectors)\n",
    "except:\n",
    "    tsne = TSNE(n_components=2, random_state=42, perplexity=10)\n",
    "    reduced_vectors = tsne.fit_transform(vectors)\n",
    "\n",
    "# Create the 2D scatter plot\n",
    "fig = go.Figure(data=[go.Scatter(\n",
    "    x=reduced_vectors[:, 0],\n",
    "    y=reduced_vectors[:, 1],\n",
    "    mode='markers',\n",
    "    marker=dict(size=5, color=colors, opacity=0.8),\n",
    "    text=[f\"Type: {t}<br>Text: {d[:100]}...\" for t, d in zip(doc_types, documents)],\n",
    "    hoverinfo='text'\n",
    ")])\n",
    "\n",
    "fig.update_layout(\n",
    "    title='2D HF Chroma Vector Store Visualization',\n",
    "    xaxis_title='t-SNE Component 1',\n",
    "    yaxis_title='t-SNE Component 2',\n",
    "    width=800,\n",
    "    height=600,\n",
    "    margin=dict(r=20, b=10, l=10, t=40)\n",
    ")\n",
    "\n",
    "fig.show()"
   ]
  },
  {
   "cell_type": "code",
   "execution_count": 23,
   "id": "02b8a480-779c-4b88-894f-ef9c101a7143",
   "metadata": {},
   "outputs": [
    {
     "data": {
      "application/vnd.plotly.v1+json": {
       "config": {
        "plotlyServerURL": "https://plot.ly"
       },
       "data": [
        {
         "hoverinfo": "text",
         "marker": {
          "color": [
           "orange",
           "orange",
           "orange",
           "orange",
           "orange",
           "orange",
           "orange",
           "orange",
           "blue",
           "blue",
           "blue",
           "blue",
           "blue",
           "blue",
           "blue",
           "blue",
           "blue",
           "blue",
           "blue",
           "blue",
           "blue",
           "blue",
           "blue"
          ],
          "opacity": 0.8,
          "size": 5
         },
         "mode": "markers",
         "text": [
          "Type: company<br>Text: Company Profile\nNexaTech Solutions is a leading technology company founded in 2018, specializing in ...",
          "Type: company<br>Text: Awards & Recognition:\n\"Best Enterprise Software Company 2024\" - TechCrunch\n\"Top 50 SaaS Companies to...",
          "Type: company<br>Text: Careers at NexaTech Solutions\nJoin Our Growing Team\nAt NexaTech Solutions, we're building the future...",
          "Type: company<br>Text: Current Open Positions:\n1. Engineering\nSenior Full-Stack Developer (Austin, TX / Remote)\nDevOps Engi...",
          "Type: company<br>Text: Employee Testimonials:\n\"NexaTech has been an incredible place to grow my career. The leadership team...",
          "Type: company<br>Text: Company Overview\nNexaTech Solutions transforms how businesses operate through our comprehensive suit...",
          "Type: company<br>Text: 2. CustomerVault CRM\nComprehensive customer relationship management system with built-in sales autom...",
          "Type: company<br>Text: Industry Focus:\nTechnology & Software\nFinancial Services\nHealthcare\nManufacturing\nProfessional Servi...",
          "Type: products<br>Text: CustomerVault CRM\nCustomerVault CRM is a comprehensive customer relationship management platform tha...",
          "Type: products<br>Text: 3. Customer Service\nSupport Ticket System: Multi-channel case management\nKnowledge Base: Self-servic...",
          "Type: products<br>Text: Integration Capabilities:\nPre-built connectors for:\nMarketing: HubSpot, Mailchimp, Google Ads\nCommun...",
          "Type: products<br>Text: DataMind Analytics\nDataMind Analytics is NexaTech's business intelligence platform that transforms c...",
          "Type: products<br>Text: 3. AI-Powered Analytics\nPredictive Modeling: Machine learning algorithms for forecasting\nAnomaly Det...",
          "Type: products<br>Text: 2. Financial Services\nRisk assessment modeling\nFraud detection algorithms\nPortfolio performance anal...",
          "Type: products<br>Text: Success Metrics:\nOrganizations using DataMind Analytics report:\n40% faster decision-making processes...",
          "Type: products<br>Text: ProjectFlow Pro\nProjectFlow Pro is NexaTech's flagship project management solution, designed specifi...",
          "Type: products<br>Text: 3. Collaboration Tools\nReal-Time Comments: Contextual discussions on tasks and projects\nFile Version...",
          "Type: products<br>Text: Pricing:\nStarter: $15/user/month (up to 100 users)\nProfessional: $25/user/month (unlimited users)\nEn...",
          "Type: products<br>Text: TeamSync Hub\nTeamSync Hub is NexaTech's comprehensive team collaboration platform that unifies commu...",
          "Type: products<br>Text: 2. Video Conferencing\nHD Video Calls: Up to 500 participants with crystal-clear quality\nScreen Shari...",
          "Type: products<br>Text: Productivity Tools:\n1. Task Management\nIntegrated To-Do Lists: Personal and team task management\nPro...",
          "Type: products<br>Text: Platform Capabilities:\n1. Cross-Platform Access\nDesktop Applications: Native apps for Windows, macOS...",
          "Type: products<br>Text: Pricing Structure:\nBasic: Free (up to 10 users, basic features)\nStandard: $8/user/month (unlimited u..."
         ],
         "type": "scatter3d",
         "x": {
          "bdata": "6N5CQHV9ocICLA5DHIlmwnX9oEIMy1BCXl79Qiqt0kKqgMbCVpw+wKsyHcPdzHu/EsAEQtQq5sEzDIPC/6wDQlhq90GhyK/CjPXrQt3d8sGEF9xBIrVEQY2778I=",
          "dtype": "f4"
         },
         "y": {
          "bdata": "abnswsuF1MBrLG5BtJQPwxg+A8OGcRzCVAKDwfwbBEOfGq1CkF6CQutMnEHof83Cf9/YQqHbhkGTlU1CizkYwbi5dj+QuNbBzDPWwtRON0P4o7xCZu5Wwj3ukMI=",
          "dtype": "f4"
         },
         "z": {
          "bdata": "LubmvyYSCEO5A6pBFbCmwuqpBcLfZhFCFRexwgBIiUFc1e9BN5nsQWvNJ0IRjtxCL6rFwuPB5MNLvQLDpccDwpEsBEOqqyDCFzSPQtOpz8Cf3OBC+PYcw3AOn0E=",
          "dtype": "f4"
         }
        }
       ],
       "layout": {
        "height": 700,
        "margin": {
         "b": 10,
         "l": 10,
         "r": 20,
         "t": 40
        },
        "scene": {
         "xaxis": {
          "title": {
           "text": "x"
          }
         },
         "yaxis": {
          "title": {
           "text": "y"
          }
         },
         "zaxis": {
          "title": {
           "text": "z"
          }
         }
        },
        "template": {
         "data": {
          "bar": [
           {
            "error_x": {
             "color": "#2a3f5f"
            },
            "error_y": {
             "color": "#2a3f5f"
            },
            "marker": {
             "line": {
              "color": "#E5ECF6",
              "width": 0.5
             },
             "pattern": {
              "fillmode": "overlay",
              "size": 10,
              "solidity": 0.2
             }
            },
            "type": "bar"
           }
          ],
          "barpolar": [
           {
            "marker": {
             "line": {
              "color": "#E5ECF6",
              "width": 0.5
             },
             "pattern": {
              "fillmode": "overlay",
              "size": 10,
              "solidity": 0.2
             }
            },
            "type": "barpolar"
           }
          ],
          "carpet": [
           {
            "aaxis": {
             "endlinecolor": "#2a3f5f",
             "gridcolor": "white",
             "linecolor": "white",
             "minorgridcolor": "white",
             "startlinecolor": "#2a3f5f"
            },
            "baxis": {
             "endlinecolor": "#2a3f5f",
             "gridcolor": "white",
             "linecolor": "white",
             "minorgridcolor": "white",
             "startlinecolor": "#2a3f5f"
            },
            "type": "carpet"
           }
          ],
          "choropleth": [
           {
            "colorbar": {
             "outlinewidth": 0,
             "ticks": ""
            },
            "type": "choropleth"
           }
          ],
          "contour": [
           {
            "colorbar": {
             "outlinewidth": 0,
             "ticks": ""
            },
            "colorscale": [
             [
              0,
              "#0d0887"
             ],
             [
              0.1111111111111111,
              "#46039f"
             ],
             [
              0.2222222222222222,
              "#7201a8"
             ],
             [
              0.3333333333333333,
              "#9c179e"
             ],
             [
              0.4444444444444444,
              "#bd3786"
             ],
             [
              0.5555555555555556,
              "#d8576b"
             ],
             [
              0.6666666666666666,
              "#ed7953"
             ],
             [
              0.7777777777777778,
              "#fb9f3a"
             ],
             [
              0.8888888888888888,
              "#fdca26"
             ],
             [
              1,
              "#f0f921"
             ]
            ],
            "type": "contour"
           }
          ],
          "contourcarpet": [
           {
            "colorbar": {
             "outlinewidth": 0,
             "ticks": ""
            },
            "type": "contourcarpet"
           }
          ],
          "heatmap": [
           {
            "colorbar": {
             "outlinewidth": 0,
             "ticks": ""
            },
            "colorscale": [
             [
              0,
              "#0d0887"
             ],
             [
              0.1111111111111111,
              "#46039f"
             ],
             [
              0.2222222222222222,
              "#7201a8"
             ],
             [
              0.3333333333333333,
              "#9c179e"
             ],
             [
              0.4444444444444444,
              "#bd3786"
             ],
             [
              0.5555555555555556,
              "#d8576b"
             ],
             [
              0.6666666666666666,
              "#ed7953"
             ],
             [
              0.7777777777777778,
              "#fb9f3a"
             ],
             [
              0.8888888888888888,
              "#fdca26"
             ],
             [
              1,
              "#f0f921"
             ]
            ],
            "type": "heatmap"
           }
          ],
          "histogram": [
           {
            "marker": {
             "pattern": {
              "fillmode": "overlay",
              "size": 10,
              "solidity": 0.2
             }
            },
            "type": "histogram"
           }
          ],
          "histogram2d": [
           {
            "colorbar": {
             "outlinewidth": 0,
             "ticks": ""
            },
            "colorscale": [
             [
              0,
              "#0d0887"
             ],
             [
              0.1111111111111111,
              "#46039f"
             ],
             [
              0.2222222222222222,
              "#7201a8"
             ],
             [
              0.3333333333333333,
              "#9c179e"
             ],
             [
              0.4444444444444444,
              "#bd3786"
             ],
             [
              0.5555555555555556,
              "#d8576b"
             ],
             [
              0.6666666666666666,
              "#ed7953"
             ],
             [
              0.7777777777777778,
              "#fb9f3a"
             ],
             [
              0.8888888888888888,
              "#fdca26"
             ],
             [
              1,
              "#f0f921"
             ]
            ],
            "type": "histogram2d"
           }
          ],
          "histogram2dcontour": [
           {
            "colorbar": {
             "outlinewidth": 0,
             "ticks": ""
            },
            "colorscale": [
             [
              0,
              "#0d0887"
             ],
             [
              0.1111111111111111,
              "#46039f"
             ],
             [
              0.2222222222222222,
              "#7201a8"
             ],
             [
              0.3333333333333333,
              "#9c179e"
             ],
             [
              0.4444444444444444,
              "#bd3786"
             ],
             [
              0.5555555555555556,
              "#d8576b"
             ],
             [
              0.6666666666666666,
              "#ed7953"
             ],
             [
              0.7777777777777778,
              "#fb9f3a"
             ],
             [
              0.8888888888888888,
              "#fdca26"
             ],
             [
              1,
              "#f0f921"
             ]
            ],
            "type": "histogram2dcontour"
           }
          ],
          "mesh3d": [
           {
            "colorbar": {
             "outlinewidth": 0,
             "ticks": ""
            },
            "type": "mesh3d"
           }
          ],
          "parcoords": [
           {
            "line": {
             "colorbar": {
              "outlinewidth": 0,
              "ticks": ""
             }
            },
            "type": "parcoords"
           }
          ],
          "pie": [
           {
            "automargin": true,
            "type": "pie"
           }
          ],
          "scatter": [
           {
            "fillpattern": {
             "fillmode": "overlay",
             "size": 10,
             "solidity": 0.2
            },
            "type": "scatter"
           }
          ],
          "scatter3d": [
           {
            "line": {
             "colorbar": {
              "outlinewidth": 0,
              "ticks": ""
             }
            },
            "marker": {
             "colorbar": {
              "outlinewidth": 0,
              "ticks": ""
             }
            },
            "type": "scatter3d"
           }
          ],
          "scattercarpet": [
           {
            "marker": {
             "colorbar": {
              "outlinewidth": 0,
              "ticks": ""
             }
            },
            "type": "scattercarpet"
           }
          ],
          "scattergeo": [
           {
            "marker": {
             "colorbar": {
              "outlinewidth": 0,
              "ticks": ""
             }
            },
            "type": "scattergeo"
           }
          ],
          "scattergl": [
           {
            "marker": {
             "colorbar": {
              "outlinewidth": 0,
              "ticks": ""
             }
            },
            "type": "scattergl"
           }
          ],
          "scattermap": [
           {
            "marker": {
             "colorbar": {
              "outlinewidth": 0,
              "ticks": ""
             }
            },
            "type": "scattermap"
           }
          ],
          "scattermapbox": [
           {
            "marker": {
             "colorbar": {
              "outlinewidth": 0,
              "ticks": ""
             }
            },
            "type": "scattermapbox"
           }
          ],
          "scatterpolar": [
           {
            "marker": {
             "colorbar": {
              "outlinewidth": 0,
              "ticks": ""
             }
            },
            "type": "scatterpolar"
           }
          ],
          "scatterpolargl": [
           {
            "marker": {
             "colorbar": {
              "outlinewidth": 0,
              "ticks": ""
             }
            },
            "type": "scatterpolargl"
           }
          ],
          "scatterternary": [
           {
            "marker": {
             "colorbar": {
              "outlinewidth": 0,
              "ticks": ""
             }
            },
            "type": "scatterternary"
           }
          ],
          "surface": [
           {
            "colorbar": {
             "outlinewidth": 0,
             "ticks": ""
            },
            "colorscale": [
             [
              0,
              "#0d0887"
             ],
             [
              0.1111111111111111,
              "#46039f"
             ],
             [
              0.2222222222222222,
              "#7201a8"
             ],
             [
              0.3333333333333333,
              "#9c179e"
             ],
             [
              0.4444444444444444,
              "#bd3786"
             ],
             [
              0.5555555555555556,
              "#d8576b"
             ],
             [
              0.6666666666666666,
              "#ed7953"
             ],
             [
              0.7777777777777778,
              "#fb9f3a"
             ],
             [
              0.8888888888888888,
              "#fdca26"
             ],
             [
              1,
              "#f0f921"
             ]
            ],
            "type": "surface"
           }
          ],
          "table": [
           {
            "cells": {
             "fill": {
              "color": "#EBF0F8"
             },
             "line": {
              "color": "white"
             }
            },
            "header": {
             "fill": {
              "color": "#C8D4E3"
             },
             "line": {
              "color": "white"
             }
            },
            "type": "table"
           }
          ]
         },
         "layout": {
          "annotationdefaults": {
           "arrowcolor": "#2a3f5f",
           "arrowhead": 0,
           "arrowwidth": 1
          },
          "autotypenumbers": "strict",
          "coloraxis": {
           "colorbar": {
            "outlinewidth": 0,
            "ticks": ""
           }
          },
          "colorscale": {
           "diverging": [
            [
             0,
             "#8e0152"
            ],
            [
             0.1,
             "#c51b7d"
            ],
            [
             0.2,
             "#de77ae"
            ],
            [
             0.3,
             "#f1b6da"
            ],
            [
             0.4,
             "#fde0ef"
            ],
            [
             0.5,
             "#f7f7f7"
            ],
            [
             0.6,
             "#e6f5d0"
            ],
            [
             0.7,
             "#b8e186"
            ],
            [
             0.8,
             "#7fbc41"
            ],
            [
             0.9,
             "#4d9221"
            ],
            [
             1,
             "#276419"
            ]
           ],
           "sequential": [
            [
             0,
             "#0d0887"
            ],
            [
             0.1111111111111111,
             "#46039f"
            ],
            [
             0.2222222222222222,
             "#7201a8"
            ],
            [
             0.3333333333333333,
             "#9c179e"
            ],
            [
             0.4444444444444444,
             "#bd3786"
            ],
            [
             0.5555555555555556,
             "#d8576b"
            ],
            [
             0.6666666666666666,
             "#ed7953"
            ],
            [
             0.7777777777777778,
             "#fb9f3a"
            ],
            [
             0.8888888888888888,
             "#fdca26"
            ],
            [
             1,
             "#f0f921"
            ]
           ],
           "sequentialminus": [
            [
             0,
             "#0d0887"
            ],
            [
             0.1111111111111111,
             "#46039f"
            ],
            [
             0.2222222222222222,
             "#7201a8"
            ],
            [
             0.3333333333333333,
             "#9c179e"
            ],
            [
             0.4444444444444444,
             "#bd3786"
            ],
            [
             0.5555555555555556,
             "#d8576b"
            ],
            [
             0.6666666666666666,
             "#ed7953"
            ],
            [
             0.7777777777777778,
             "#fb9f3a"
            ],
            [
             0.8888888888888888,
             "#fdca26"
            ],
            [
             1,
             "#f0f921"
            ]
           ]
          },
          "colorway": [
           "#636efa",
           "#EF553B",
           "#00cc96",
           "#ab63fa",
           "#FFA15A",
           "#19d3f3",
           "#FF6692",
           "#B6E880",
           "#FF97FF",
           "#FECB52"
          ],
          "font": {
           "color": "#2a3f5f"
          },
          "geo": {
           "bgcolor": "white",
           "lakecolor": "white",
           "landcolor": "#E5ECF6",
           "showlakes": true,
           "showland": true,
           "subunitcolor": "white"
          },
          "hoverlabel": {
           "align": "left"
          },
          "hovermode": "closest",
          "mapbox": {
           "style": "light"
          },
          "paper_bgcolor": "white",
          "plot_bgcolor": "#E5ECF6",
          "polar": {
           "angularaxis": {
            "gridcolor": "white",
            "linecolor": "white",
            "ticks": ""
           },
           "bgcolor": "#E5ECF6",
           "radialaxis": {
            "gridcolor": "white",
            "linecolor": "white",
            "ticks": ""
           }
          },
          "scene": {
           "xaxis": {
            "backgroundcolor": "#E5ECF6",
            "gridcolor": "white",
            "gridwidth": 2,
            "linecolor": "white",
            "showbackground": true,
            "ticks": "",
            "zerolinecolor": "white"
           },
           "yaxis": {
            "backgroundcolor": "#E5ECF6",
            "gridcolor": "white",
            "gridwidth": 2,
            "linecolor": "white",
            "showbackground": true,
            "ticks": "",
            "zerolinecolor": "white"
           },
           "zaxis": {
            "backgroundcolor": "#E5ECF6",
            "gridcolor": "white",
            "gridwidth": 2,
            "linecolor": "white",
            "showbackground": true,
            "ticks": "",
            "zerolinecolor": "white"
           }
          },
          "shapedefaults": {
           "line": {
            "color": "#2a3f5f"
           }
          },
          "ternary": {
           "aaxis": {
            "gridcolor": "white",
            "linecolor": "white",
            "ticks": ""
           },
           "baxis": {
            "gridcolor": "white",
            "linecolor": "white",
            "ticks": ""
           },
           "bgcolor": "#E5ECF6",
           "caxis": {
            "gridcolor": "white",
            "linecolor": "white",
            "ticks": ""
           }
          },
          "title": {
           "x": 0.05
          },
          "xaxis": {
           "automargin": true,
           "gridcolor": "white",
           "linecolor": "white",
           "ticks": "",
           "title": {
            "standoff": 15
           },
           "zerolinecolor": "white",
           "zerolinewidth": 2
          },
          "yaxis": {
           "automargin": true,
           "gridcolor": "white",
           "linecolor": "white",
           "ticks": "",
           "title": {
            "standoff": 15
           },
           "zerolinecolor": "white",
           "zerolinewidth": 2
          }
         }
        },
        "title": {
         "text": "3D HF Chroma Vector Store Visualization"
        },
        "width": 900
       }
      },
      "image/png": "[encoded data removed]"
     },
     "metadata": {},
     "output_type": "display_data"
    }
   ],
   "source": [
    "# 3D Visualization\n",
    "\n",
    "try:\n",
    "    tsne = TSNE(n_components=3, random_state=42)\n",
    "    reduced_vectors = tsne.fit_transform(vectors)\n",
    "except:\n",
    "    tsne = TSNE(n_components=3, random_state=42, perplexity=10)\n",
    "    reduced_vectors = tsne.fit_transform(vectors)\n",
    "\n",
    "# Create the 3D scatter plot\n",
    "fig = go.Figure(data=[go.Scatter3d(\n",
    "    x=reduced_vectors[:, 0],\n",
    "    y=reduced_vectors[:, 1],\n",
    "    z=reduced_vectors[:, 2],\n",
    "    mode='markers',\n",
    "    marker=dict(size=5, color=colors, opacity=0.8),\n",
    "    text=[f\"Type: {t}<br>Text: {d[:100]}...\" for t, d in zip(doc_types, documents)],\n",
    "    hoverinfo='text'\n",
    ")])\n",
    "\n",
    "fig.update_layout(\n",
    "    title='3D HF Chroma Vector Store Visualization',\n",
    "    scene=dict(xaxis_title='x', yaxis_title='y', zaxis_title='z'),\n",
    "    width=900,\n",
    "    height=700,\n",
    "    margin=dict(r=20, b=10, l=10, t=40)\n",
    ")\n",
    "\n",
    "fig.show()"
   ]
  },
  {
   "cell_type": "code",
   "execution_count": null,
   "id": "9228a43e-7182-4170-8926-8e78ea593a57",
   "metadata": {},
   "outputs": [],
   "source": []
  }
 ],
 "metadata": {
  "kernelspec": {
   "display_name": "hugface",
   "language": "python",
   "name": "hugface"
  },
  "language_info": {
   "codemirror_mode": {
    "name": "ipython",
    "version": 3
   },
   "file_extension": ".py",
   "mimetype": "text/x-python",
   "name": "python",
   "nbconvert_exporter": "python",
   "pygments_lexer": "ipython3",
   "version": "3.11.11"
  }
 },
 "nbformat": 4,
 "nbformat_minor": 5
}
